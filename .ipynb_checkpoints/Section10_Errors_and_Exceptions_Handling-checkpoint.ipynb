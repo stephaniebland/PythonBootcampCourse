{
 "cells": [
  {
   "cell_type": "markdown",
   "metadata": {},
   "source": [
    "# 80. Errors and Exception Handling\n",
    "Three keywords for this:\n",
    "- try: block of code to be attempted\n",
    "- except: block of code will execute if there is an error in the **try** block\n",
    "- finally: final block of code to be executed, regardless of an error"
   ]
  },
  {
   "cell_type": "code",
   "execution_count": null,
   "metadata": {},
   "outputs": [],
   "source": [
    "def add(n1,n2):\n",
    "    print(n1+n2)"
   ]
  },
  {
   "cell_type": "raw",
   "metadata": {},
   "source": [
    "result=add(10,20)"
   ]
  },
  {
   "cell_type": "code",
   "execution_count": null,
   "metadata": {},
   "outputs": [],
   "source": [
    "n1=10"
   ]
  },
  {
   "cell_type": "code",
   "execution_count": 3,
   "metadata": {},
   "outputs": [
    {
     "name": "stdin",
     "output_type": "stream",
     "text": [
      "Please provide a number: 5\n"
     ]
    }
   ],
   "source": [
    "n2=input(\"Please provide a number:\")"
   ]
  },
  {
   "cell_type": "code",
   "execution_count": 4,
   "metadata": {},
   "outputs": [
    {
     "name": "stdout",
     "output_type": "stream",
     "text": [
      "Need to add two integers\n"
     ]
    }
   ],
   "source": [
    "try:\n",
    "    # Want to attempt this code\n",
    "    # May have an error\n",
    "    result=add(n1,n2)\n",
    "except:\n",
    "    print(\"Need to add two integers\")\n",
    "else:\n",
    "    print(\"Adding was successful\")\n",
    "    print(result)"
   ]
  },
  {
   "cell_type": "code",
   "execution_count": 5,
   "metadata": {},
   "outputs": [
    {
     "name": "stdout",
     "output_type": "stream",
     "text": [
      "There was an OS error\n",
      "I always run\n"
     ]
    }
   ],
   "source": [
    "try:\n",
    "    f=open(\"myfile.txt\",\"r\")\n",
    "    f.write(\"Write a test line\")\n",
    "except TypeError:\n",
    "    print(\"There was a type error!\")\n",
    "except OSError:\n",
    "    print(\"There was an OS error\")\n",
    "finally:\n",
    "    print(\"I always run\")"
   ]
  },
  {
   "cell_type": "code",
   "execution_count": 6,
   "metadata": {},
   "outputs": [],
   "source": [
    "def ask_for_int():\n",
    "    try:\n",
    "        result=int(input(\"Please provide a number: \"))\n",
    "    except:\n",
    "        print(\"That is not a number\")\n",
    "    finally:\n",
    "        print(\"End of try/except/finally\")"
   ]
  },
  {
   "cell_type": "code",
   "execution_count": 7,
   "metadata": {},
   "outputs": [
    {
     "name": "stdin",
     "output_type": "stream",
     "text": [
      "Please provide a number:  h\n"
     ]
    },
    {
     "name": "stdout",
     "output_type": "stream",
     "text": [
      "That is not a number\n",
      "End of try/except/finally\n"
     ]
    }
   ],
   "source": [
    "ask_for_int()"
   ]
  },
  {
   "cell_type": "code",
   "execution_count": 8,
   "metadata": {},
   "outputs": [],
   "source": [
    "def ask_for_int():\n",
    "    while True:\n",
    "        try:\n",
    "            result=int(input(\"Please provide a number: \"))\n",
    "        except:\n",
    "            print(\"That is not a number\")\n",
    "            continue\n",
    "        else:\n",
    "            print(\"Yes, thank you\")\n",
    "            break\n",
    "        finally:\n",
    "            print(\"End of try/except/finally\")"
   ]
  },
  {
   "cell_type": "code",
   "execution_count": 9,
   "metadata": {},
   "outputs": [
    {
     "name": "stdin",
     "output_type": "stream",
     "text": [
      "Please provide a number:  h\n"
     ]
    },
    {
     "name": "stdout",
     "output_type": "stream",
     "text": [
      "That is not a number\n",
      "End of try/except/finally\n"
     ]
    },
    {
     "name": "stdin",
     "output_type": "stream",
     "text": [
      "Please provide a number:  k\n"
     ]
    },
    {
     "name": "stdout",
     "output_type": "stream",
     "text": [
      "That is not a number\n",
      "End of try/except/finally\n"
     ]
    },
    {
     "name": "stdin",
     "output_type": "stream",
     "text": [
      "Please provide a number:  2\n"
     ]
    },
    {
     "name": "stdout",
     "output_type": "stream",
     "text": [
      "Yes, thank you\n",
      "End of try/except/finally\n"
     ]
    }
   ],
   "source": [
    "ask_for_int()"
   ]
  },
  {
   "cell_type": "code",
   "execution_count": null,
   "metadata": {},
   "outputs": [],
   "source": []
  }
 ],
 "metadata": {
  "kernelspec": {
   "display_name": "Python 3",
   "language": "python",
   "name": "python3"
  },
  "language_info": {
   "codemirror_mode": {
    "name": "ipython",
    "version": 3
   },
   "file_extension": ".py",
   "mimetype": "text/x-python",
   "name": "python",
   "nbconvert_exporter": "python",
   "pygments_lexer": "ipython3",
   "version": "3.6.9"
  }
 },
 "nbformat": 4,
 "nbformat_minor": 4
}
