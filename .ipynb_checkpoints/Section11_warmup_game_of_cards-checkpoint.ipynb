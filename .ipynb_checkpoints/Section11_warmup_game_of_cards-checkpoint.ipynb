{
 "cells": [
  {
   "cell_type": "markdown",
   "metadata": {},
   "source": [
    "# Game of War"
   ]
  },
  {
   "cell_type": "code",
   "execution_count": 43,
   "metadata": {},
   "outputs": [],
   "source": [
    "import random\n",
    "\n",
    "suits=(\"Hearts\",\"Spades\",\"Diamonds\",\"Clubs\")\n",
    "ranks=('Ace','Two','Three','Four','Five','Six','Seven','Eight',\n",
    "        'Nine','Ten','Jack','Queen','King')\n",
    "\n",
    "# Dictionary of values\n",
    "values={'Ace':1,'Two':2,'Three':3,'Four':4,'Five':5,'Six':6,'Seven':7,'Eight':8,\n",
    "        'Nine':9,'Ten':10,'Jack':11,'Queen':12,'King':13}"
   ]
  },
  {
   "cell_type": "code",
   "execution_count": 44,
   "metadata": {},
   "outputs": [],
   "source": [
    "class Card():\n",
    "    # Attributes of a card (suit, rank, value)\n",
    "    def __init__(self,suit,rank):\n",
    "        self.suit=suit\n",
    "        self.rank=rank\n",
    "        self.value=values[rank]\n",
    "    \n",
    "    def __str__(self):\n",
    "        return(self.rank+\" of \"+self.suit)\n",
    "        "
   ]
  },
  {
   "cell_type": "code",
   "execution_count": 45,
   "metadata": {},
   "outputs": [
    {
     "name": "stdout",
     "output_type": "stream",
     "text": [
      "Two of Hearts\n"
     ]
    }
   ],
   "source": [
    "print(Card(\"Hearts\",\"Two\"))"
   ]
  },
  {
   "cell_type": "code",
   "execution_count": 137,
   "metadata": {},
   "outputs": [],
   "source": [
    "class Deck():\n",
    "    # Constructed using instances of the card class\n",
    "    def __init__(self):\n",
    "        self.full_deck=[]\n",
    "        for i in suits:\n",
    "            for j in ranks:\n",
    "                self.full_deck.append(Card(i,j))\n",
    "\n",
    "    # Shuffle Deck\n",
    "    def shuffle(self):\n",
    "        random.shuffle(self.full_deck)\n",
    "        \n",
    "    # Draw a card\n",
    "    def draw(self):\n",
    "        return self.full_deck.pop(0)"
   ]
  },
  {
   "cell_type": "code",
   "execution_count": 138,
   "metadata": {},
   "outputs": [],
   "source": [
    "new_deck=Deck()"
   ]
  },
  {
   "cell_type": "code",
   "execution_count": 139,
   "metadata": {},
   "outputs": [],
   "source": [
    "new_deck.shuffle()"
   ]
  },
  {
   "cell_type": "code",
   "execution_count": 140,
   "metadata": {},
   "outputs": [
    {
     "name": "stdout",
     "output_type": "stream",
     "text": [
      "Ace of Hearts\n",
      "Seven of Spades\n",
      "Two of Diamonds\n",
      "Nine of Clubs\n",
      "Three of Hearts\n",
      "Three of Diamonds\n",
      "Ten of Clubs\n",
      "Jack of Spades\n",
      "Four of Spades\n",
      "Two of Spades\n",
      "Queen of Spades\n",
      "Six of Diamonds\n",
      "Jack of Hearts\n",
      "Five of Diamonds\n",
      "Seven of Hearts\n",
      "Four of Hearts\n",
      "Eight of Spades\n",
      "Ace of Clubs\n",
      "Queen of Hearts\n",
      "Six of Clubs\n",
      "Three of Clubs\n",
      "Nine of Hearts\n",
      "Eight of Clubs\n",
      "King of Clubs\n",
      "King of Hearts\n",
      "King of Spades\n",
      "Nine of Diamonds\n",
      "Seven of Clubs\n",
      "Queen of Diamonds\n",
      "Ten of Diamonds\n",
      "Five of Hearts\n",
      "Seven of Diamonds\n",
      "Four of Diamonds\n",
      "Eight of Hearts\n",
      "Two of Hearts\n",
      "Queen of Clubs\n",
      "Three of Spades\n",
      "Jack of Diamonds\n",
      "Ten of Spades\n",
      "Five of Spades\n",
      "Two of Clubs\n",
      "Ace of Diamonds\n",
      "Five of Clubs\n",
      "Ten of Hearts\n",
      "Six of Hearts\n",
      "Jack of Clubs\n",
      "King of Diamonds\n",
      "Eight of Diamonds\n",
      "Four of Clubs\n",
      "Ace of Spades\n",
      "Nine of Spades\n",
      "Six of Spades\n"
     ]
    }
   ],
   "source": [
    "for i in new_deck.full_deck:\n",
    "    print(i)"
   ]
  },
  {
   "cell_type": "code",
   "execution_count": 142,
   "metadata": {},
   "outputs": [
    {
     "name": "stdout",
     "output_type": "stream",
     "text": [
      "Seven of Spades\n"
     ]
    }
   ],
   "source": [
    "print(new_deck.draw())"
   ]
  },
  {
   "cell_type": "code",
   "execution_count": 150,
   "metadata": {},
   "outputs": [],
   "source": [
    "class Player():\n",
    "    # Contains half a deck of cards\n",
    "    def __init__(self,name):\n",
    "        self.name=name\n",
    "        self.hand=[]\n",
    "    \n",
    "    def remove_one(self):\n",
    "        return self.hand.pop(0)\n",
    "    \n",
    "    def add_cards(self,new_cards):\n",
    "        self.hand.extend(new_cards)\n",
    "    \n",
    "    def __str__(self):\n",
    "        return f'Player {self.name} has {len(self.hand)} cards.'"
   ]
  },
  {
   "cell_type": "code",
   "execution_count": 151,
   "metadata": {},
   "outputs": [],
   "source": [
    "player1=Player(\"Steph\")"
   ]
  },
  {
   "cell_type": "code",
   "execution_count": 152,
   "metadata": {},
   "outputs": [
    {
     "name": "stdout",
     "output_type": "stream",
     "text": [
      "Player Steph has 0 cards.\n"
     ]
    }
   ],
   "source": [
    "print(player1)"
   ]
  },
  {
   "cell_type": "markdown",
   "metadata": {},
   "source": [
    "## Game Logic"
   ]
  },
  {
   "cell_type": "code",
   "execution_count": null,
   "metadata": {},
   "outputs": [],
   "source": []
  }
 ],
 "metadata": {
  "kernelspec": {
   "display_name": "Python 3",
   "language": "python",
   "name": "python3"
  },
  "language_info": {
   "codemirror_mode": {
    "name": "ipython",
    "version": 3
   },
   "file_extension": ".py",
   "mimetype": "text/x-python",
   "name": "python",
   "nbconvert_exporter": "python",
   "pygments_lexer": "ipython3",
   "version": "3.6.9"
  }
 },
 "nbformat": 4,
 "nbformat_minor": 4
}
