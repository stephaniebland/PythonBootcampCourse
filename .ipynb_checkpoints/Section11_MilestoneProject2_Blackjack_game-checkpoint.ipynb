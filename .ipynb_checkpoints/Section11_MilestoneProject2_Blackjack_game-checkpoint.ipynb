{
 "cells": [
  {
   "cell_type": "markdown",
   "metadata": {},
   "source": [
    "# Blackjack Game"
   ]
  },
  {
   "cell_type": "code",
   "execution_count": 1,
   "metadata": {},
   "outputs": [],
   "source": [
    "import random\n",
    "\n",
    "suits=(\"Hearts\",\"Spades\",\"Diamonds\",\"Clubs\")\n",
    "ranks=('Ace','Two','Three','Four','Five','Six','Seven','Eight',\n",
    "        'Nine','Ten','Jack','Queen','King')\n",
    "\n",
    "# Dictionary of values\n",
    "# In Blackjack an ace can either hold a value of 1 or 11.\n",
    "# We will solve this later with an if statement when calculating the value of a hand\n",
    "values={'Ace':1,'Two':2,'Three':3,'Four':4,'Five':5,'Six':6,'Seven':7,'Eight':8,\n",
    "        'Nine':9,'Ten':10,'Jack':10,'Queen':10,'King':10}"
   ]
  },
  {
   "cell_type": "code",
   "execution_count": 2,
   "metadata": {},
   "outputs": [],
   "source": [
    "class Card():\n",
    "    # Attributes of a card (suit, rank, value)\n",
    "    def __init__(self,suit,rank):\n",
    "        self.suit=suit\n",
    "        self.rank=rank\n",
    "        self.value=values[rank]\n",
    "    \n",
    "    def __str__(self):\n",
    "        return(self.rank+\" of \"+self.suit)\n",
    "        "
   ]
  },
  {
   "cell_type": "code",
   "execution_count": 3,
   "metadata": {},
   "outputs": [],
   "source": [
    "class Deck():\n",
    "    # Constructed using instances of the card class\n",
    "    def __init__(self):\n",
    "        self.full_deck=[]\n",
    "        for i in suits:\n",
    "            for j in ranks:\n",
    "                self.full_deck.append(Card(i,j))\n",
    "\n",
    "    # Shuffle Deck\n",
    "    def shuffle(self):\n",
    "        random.shuffle(self.full_deck)\n",
    "        \n",
    "    # Draw a card\n",
    "    def draw(self):\n",
    "        return self.full_deck.pop(0)"
   ]
  },
  {
   "cell_type": "code",
   "execution_count": 17,
   "metadata": {},
   "outputs": [],
   "source": [
    "class Player():\n",
    "    # Contains player attributes, i.e. bankroll, bet, current hand\n",
    "    def __init__(self,name,bank=100,bet=False):\n",
    "        self.name=name\n",
    "        self.bank=bank\n",
    "        self.bet=bet\n",
    "        self.hand=[]\n",
    "    \n",
    "    def remove_one(self):\n",
    "        return self.hand.pop(0)\n",
    "    \n",
    "    def add_cards(self,new_cards):\n",
    "        if type(new_cards)==type([]):\n",
    "            self.hand.extend(new_cards)\n",
    "        else:\n",
    "            self.hand.append(new_cards)\n",
    "    \n",
    "    def __str__(self):\n",
    "        return f'Player {self.name} has {len(self.hand)} cards.'\n",
    "    \n",
    "    def place_bet(self,bet):\n",
    "        try:\n",
    "            bet=int(bet)\n",
    "        except:\n",
    "            print(\"Please place an integer bet.\")\n",
    "            return False\n",
    "        if bet>self.bank:\n",
    "            print (\"You don't have enough funds for that bet.\\n\"+\n",
    "                   self.name+\" only has $\"+str(self.bank)+\".\")\n",
    "            return False\n",
    "        else:\n",
    "            self.bet=bet\n",
    "            self.bank=self.bank-bet\n",
    "            print (self.name,\"bet\",bet)\n",
    "            return self.bet"
   ]
  },
  {
   "cell_type": "code",
   "execution_count": 5,
   "metadata": {},
   "outputs": [],
   "source": [
    "class Winning():\n",
    "    def __init__(self,player1,player2):\n",
    "        self.player1=player1\n",
    "        self.player2=player2\n",
    "    \n",
    "    def compute(self,player):\n",
    "        tot=0\n",
    "        aces=0\n",
    "        for i in player.hand.value:\n",
    "            tot+=i\n",
    "            # Count the number of aces in the deck\n",
    "            if i==1:\n",
    "                aces+=1\n",
    "                \n",
    "        # For every ace, you may add ten more points if it's favorable\n",
    "        for j in range(aces):\n",
    "            if tot<=11:\n",
    "                tot+=10  \n",
    "        \n",
    "        # Return the total score of the hand\n",
    "        return tot"
   ]
  },
  {
   "cell_type": "markdown",
   "metadata": {},
   "source": [
    "# Game Logic"
   ]
  },
  {
   "cell_type": "code",
   "execution_count": 47,
   "metadata": {},
   "outputs": [],
   "source": [
    "# Initialize Deck\n",
    "new_deck=Deck()\n",
    "# Shuffle Deck\n",
    "new_deck.shuffle()\n",
    "\n",
    "# Ask for player names\n",
    "player1=Player(\"Computer\")#('\\033[35m'+input(\"Who is the second player? \")+'\\x1b[0m')\n",
    "player2=Player(\"Jane\")#('\\033[34m'+input(\"Who is the first player? \")+'\\x1b[0m')"
   ]
  },
  {
   "cell_type": "code",
   "execution_count": 48,
   "metadata": {},
   "outputs": [
    {
     "name": "stdin",
     "output_type": "stream",
     "text": [
      "Jane, please make a bet: 23\n"
     ]
    },
    {
     "name": "stdout",
     "output_type": "stream",
     "text": [
      "Jane bet 23\n"
     ]
    }
   ],
   "source": [
    "# Player places a bet\n",
    "player2.bet=False\n",
    "while player2.bet==False:\n",
    "    player2.place_bet(input(player2.name+\", please make a bet:\"))"
   ]
  },
  {
   "cell_type": "code",
   "execution_count": 54,
   "metadata": {},
   "outputs": [],
   "source": [
    "# Deal first two initial cards to the players\n",
    "player1.add_cards(new_deck.full_deck[0:2])\n",
    "player2.add_cards(new_deck.full_deck[2:4])"
   ]
  },
  {
   "cell_type": "code",
   "execution_count": 55,
   "metadata": {},
   "outputs": [
    {
     "name": "stdout",
     "output_type": "stream",
     "text": [
      "Computer has cards:\n",
      " Ten of Diamonds and\n",
      " A Face Down Card\n",
      "Jane has cards:\n",
      " Two of Spades and\n",
      " Ace of Hearts\n",
      "Computer                                VS                                    Jane\n",
      "Ten of Diamonds                vs                  Two of Spades\n",
      "Computer wins this round!\n",
      "\n",
      "\n"
     ]
    }
   ],
   "source": [
    "#Actual Gameplay\n",
    "game=True\n",
    "while game:\n",
    "    game=False\n",
    "    # Show the starting cards\n",
    "    print(player1.name,\"has cards:\\n\",player1.hand[0],\"and\\n\",\"A Face Down Card\")\n",
    "    print(player2.name,\"has cards:\\n\",player2.hand[0],\"and\\n\",player2.hand[1])\n",
    "    \n",
    "    # Draw one card from each player's hand:\n",
    "    A=[player1.remove_one()]\n",
    "    B=[player2.remove_one()]\n",
    "    \n",
    "    # lowercase letters represent the cards that are currently being compared.\n",
    "    a=A[0]\n",
    "    b=B[0]\n",
    "    \n",
    "    # State what cards each player is playing\n",
    "    print(player1.name.ljust(w+9)+\" VS \"+player2.name.rjust(w+9))\n",
    "    print(str(a).ljust(w)+\" vs \"+str(b).rjust(w))\n",
    "    \n",
    "    # If the cards have equal value, draw more cards for a tiebreaker\n",
    "    while a.value==b.value:\n",
    "        print(('\\033[31m'+\"Time for a tiebreaker!\"+'\\x1b[0m').center(w*2+m+9))\n",
    "        print(\"Draw three more cards:\")\n",
    "        \n",
    "        # Draw one card at a time, and check there are cards to draw from.\n",
    "        for i in range(3):\n",
    "            if len(player1.hand)>0:\n",
    "                A.append(player1.remove_one())\n",
    "            if len(player2.hand)>0:\n",
    "                B.append(player2.remove_one())\n",
    "            # Print every card you drew except for the last one, as it will be printed in competition\n",
    "            if i!=2:\n",
    "                print(str(A[-1]).ljust(w)+\"    \"+str(B[-1]).rjust(w))\n",
    "        \n",
    "        # Chose the final card each player drew to compare for winner\n",
    "        a=A[-1]\n",
    "        b=B[-1]\n",
    "        print(str(a).ljust(w)+\" vs \"+str(b).rjust(w))\n",
    "    \n",
    "    # Find the winner of the round, and give all the cards to the winner.\n",
    "    if a.value>b.value:\n",
    "        player1.add_cards(A)\n",
    "        player1.add_cards(B)\n",
    "        print(player1.name, \"wins this round!\")\n",
    "    elif a.value<b.value:\n",
    "        player2.add_cards(B)\n",
    "        player2.add_cards(A)\n",
    "        print((str(player2.name)+\" wins this round!\").rjust(w*2+m+9))\n",
    "    print(\"\\n\")"
   ]
  },
  {
   "cell_type": "code",
   "execution_count": null,
   "metadata": {},
   "outputs": [],
   "source": []
  }
 ],
 "metadata": {
  "kernelspec": {
   "display_name": "Python 3",
   "language": "python",
   "name": "python3"
  },
  "language_info": {
   "codemirror_mode": {
    "name": "ipython",
    "version": 3
   },
   "file_extension": ".py",
   "mimetype": "text/x-python",
   "name": "python",
   "nbconvert_exporter": "python",
   "pygments_lexer": "ipython3",
   "version": "3.6.9"
  }
 },
 "nbformat": 4,
 "nbformat_minor": 4
}
