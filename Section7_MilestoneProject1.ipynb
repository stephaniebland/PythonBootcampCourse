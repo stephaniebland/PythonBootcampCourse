{
 "cells": [
  {
   "cell_type": "markdown",
   "metadata": {},
   "source": [
    "# Import Libraries"
   ]
  },
  {
   "cell_type": "code",
   "execution_count": 1,
   "metadata": {},
   "outputs": [],
   "source": [
    "import random"
   ]
  },
  {
   "cell_type": "markdown",
   "metadata": {},
   "source": [
    "# Function Definitions"
   ]
  },
  {
   "cell_type": "code",
   "execution_count": 2,
   "metadata": {},
   "outputs": [],
   "source": [
    "# Display your tic tac toe matrix to the user\n",
    "def display(A):\n",
    "    print('+---'*3+'+')\n",
    "    for i in A:\n",
    "        for j in i:\n",
    "            print('| '+j+' ',end='')\n",
    "        print('|','\\n'+'+---'*3+'+')"
   ]
  },
  {
   "cell_type": "code",
   "execution_count": 3,
   "metadata": {},
   "outputs": [],
   "source": [
    "# Ask the user for a move:\n",
    "def user_move(A,player):   \n",
    "    move='z'\n",
    "    \n",
    "    # Continue asking for input until you reach a free position\n",
    "    while move!=' ':\n",
    "        print(\"Time for \"+player+\" to move\")\n",
    "        \n",
    "        # Dictionary for row, column entries for user moves. Reset it until you have a valid move.\n",
    "        position={\"row\":\"z\",\"column\":\"z\"}\n",
    "        \n",
    "        for x in position:\n",
    "            # Continue asking the user for input until they enter a valid space in the matrix.\n",
    "            while not position[x] in [0,1,2]:\n",
    "                position[x]=input(prompt=\"Choose a \"+x+\" to play in between 1 and 3:\")\n",
    "                \n",
    "                # Check if the user entered valid integer input:\n",
    "                try:\n",
    "                    position[x]=int(position[x])-1\n",
    "                except:\n",
    "                    print(\"You need to enter a number\")\n",
    "                \n",
    "        # Find out if the move the user wants to play is a free space:\n",
    "        move=A[position[\"row\"]][position[\"column\"]]\n",
    "        if move!=' ':\n",
    "            print(\"You can't move there!\")\n",
    "        else:\n",
    "            # Make the user's move.\n",
    "            A[position[\"row\"]][position[\"column\"]]=player"
   ]
  },
  {
   "cell_type": "code",
   "execution_count": 4,
   "metadata": {},
   "outputs": [],
   "source": [
    "# Computer moves randomly \n",
    "def computer_move(A):\n",
    "    move_list=occupied(A)\n",
    "    k=random.choice(move_list[\"free\"])\n",
    "    A[k[0]][k[1]]='O'"
   ]
  },
  {
   "cell_type": "code",
   "execution_count": 5,
   "metadata": {},
   "outputs": [],
   "source": [
    "# Find all occupied spots\n",
    "def occupied(A):\n",
    "    move_list={\"free\":[],\"X\":[],\"O\":[]}\n",
    "    for i in [0,1,2]:\n",
    "        for j in [0,1,2]:\n",
    "            if A[i][j]==' ':\n",
    "                move_list[\"free\"].append([i,j])\n",
    "            elif A[i][j]=='X':\n",
    "                move_list[\"X\"].append([i,j])\n",
    "            elif A[i][j]=='O':\n",
    "                move_list[\"O\"].append([i,j])\n",
    "    return move_list"
   ]
  },
  {
   "cell_type": "code",
   "execution_count": 6,
   "metadata": {},
   "outputs": [],
   "source": [
    "# Find if there is a winning combination\n",
    "def win_combo(moves,user):\n",
    "    moves=[tuple(i) for i in moves]\n",
    "    \n",
    "    # First check if there is a win along a diagonal:\n",
    "    if {(0,0),(1,1),(2,2)}.issubset(moves):\n",
    "        return True\n",
    "    elif {(0,2),(1,1),(2,0)}.issubset(moves):\n",
    "        return True\n",
    "    \n",
    "    # Now check if there are three moves in the same row or column\n",
    "    for axis in [0,1]:\n",
    "        count_moves=[i[axis] for i in moves]\n",
    "        # Return true if there are three in a row\n",
    "        if any(count_moves.count(i)>=3 for i in count_moves):\n",
    "            return True"
   ]
  },
  {
   "cell_type": "code",
   "execution_count": 7,
   "metadata": {},
   "outputs": [],
   "source": [
    "def find_endgame(A):\n",
    "    move_list=occupied(A)\n",
    "\n",
    "    # Check if there is a winner:\n",
    "    for user in [\"X\",\"O\"]:\n",
    "        if win_combo(move_list[user],user)==True:\n",
    "            display(A)\n",
    "            print (\"Player \"+user+\" has won!\")\n",
    "            return \"end\"\n",
    "    \n",
    "    # Exit the game if there are no free spaces\n",
    "    if len(move_list[\"free\"])==0:\n",
    "        print(\"The game has tied\")\n",
    "        return \"tied\"\n",
    "\n",
    "    # Give users an option to exit the game:\n",
    "    please_exit=input(\"Would you like to continue playing? Press enter, 0, 1, 2, or 3 to continue, or type anything to exit\")\n",
    "    if not please_exit in [\"\",\"0\",\"1\",\"2\",\"3\"]:\n",
    "        return \"exit\"\n",
    "    return \"none\""
   ]
  },
  {
   "cell_type": "code",
   "execution_count": 8,
   "metadata": {},
   "outputs": [],
   "source": [
    "# Choose to play against another player or the computer\n",
    "def game_type():\n",
    "    solo=''\n",
    "    while 1==1:\n",
    "        solo=input(\"Would you like to play against the computer? Say Yes for computer or No for friend:\").lower()\n",
    "        if solo in [\"yes\",\"y\"]:\n",
    "            return True\n",
    "        elif solo in [\"no\",\"n\"]:\n",
    "            return False\n",
    "        else:\n",
    "            print(\"Please enter a valid input\")"
   ]
  },
  {
   "cell_type": "markdown",
   "metadata": {},
   "source": [
    "# The Game:"
   ]
  },
  {
   "cell_type": "code",
   "execution_count": 9,
   "metadata": {},
   "outputs": [],
   "source": [
    "# Initialize the game:\n",
    "'''A is a tic tac toe matrix (list of lists)\n",
    "where each list is a new row \n",
    "'''\n",
    "A=[[' ',' ',' '],[' ',' ',' '],[' ',' ',' ']]\n",
    "# move_num is the move you are on\n",
    "move_num=0"
   ]
  },
  {
   "cell_type": "code",
   "execution_count": 10,
   "metadata": {},
   "outputs": [
    {
     "name": "stdout",
     "output_type": "stream",
     "text": [
      "Welcome to Tic Tac Toe!\n"
     ]
    },
    {
     "name": "stdin",
     "output_type": "stream",
     "text": [
      "Would you like to play against the computer? Say Yes for computer or No for friend: y\n"
     ]
    },
    {
     "name": "stdout",
     "output_type": "stream",
     "text": [
      "we are inside win_combo for X\n",
      "[]\n",
      "[]\n",
      "[]\n",
      "we are inside win_combo for O\n",
      "[]\n",
      "[]\n",
      "[]\n"
     ]
    },
    {
     "name": "stdin",
     "output_type": "stream",
     "text": [
      "Would you like to continue playing? Press enter, 0, 1, 2, or 3 to continue, or type anything to exit \n"
     ]
    },
    {
     "name": "stdout",
     "output_type": "stream",
     "text": [
      "+---+---+---+\n",
      "|   |   |   | \n",
      "+---+---+---+\n",
      "|   |   |   | \n",
      "+---+---+---+\n",
      "|   |   |   | \n",
      "+---+---+---+\n",
      "Time for X to move\n"
     ]
    },
    {
     "name": "stdin",
     "output_type": "stream",
     "text": [
      "Choose a row to play in between 1 and 3: 1\n",
      "Choose a column to play in between 1 and 3: 1\n"
     ]
    },
    {
     "name": "stdout",
     "output_type": "stream",
     "text": [
      "we are inside win_combo for X\n",
      "[[0, 0]]\n",
      "[0]\n",
      "[0]\n",
      "we are inside win_combo for O\n",
      "[]\n",
      "[]\n",
      "[]\n"
     ]
    },
    {
     "name": "stdin",
     "output_type": "stream",
     "text": [
      "Would you like to continue playing? Press enter, 0, 1, 2, or 3 to continue, or type anything to exit \n"
     ]
    },
    {
     "name": "stdout",
     "output_type": "stream",
     "text": [
      "+---+---+---+\n",
      "| X |   |   | \n",
      "+---+---+---+\n",
      "|   |   |   | \n",
      "+---+---+---+\n",
      "|   |   |   | \n",
      "+---+---+---+\n",
      "we are inside win_combo for X\n",
      "[[0, 0]]\n",
      "[0]\n",
      "[0]\n",
      "we are inside win_combo for O\n",
      "[[1, 1]]\n",
      "[1]\n",
      "[1]\n"
     ]
    },
    {
     "name": "stdin",
     "output_type": "stream",
     "text": [
      "Would you like to continue playing? Press enter, 0, 1, 2, or 3 to continue, or type anything to exit \n"
     ]
    },
    {
     "name": "stdout",
     "output_type": "stream",
     "text": [
      "+---+---+---+\n",
      "| X |   |   | \n",
      "+---+---+---+\n",
      "|   | O |   | \n",
      "+---+---+---+\n",
      "|   |   |   | \n",
      "+---+---+---+\n",
      "Time for X to move\n"
     ]
    },
    {
     "name": "stdin",
     "output_type": "stream",
     "text": [
      "Choose a row to play in between 1 and 3: 3\n",
      "Choose a column to play in between 1 and 3: 1\n"
     ]
    },
    {
     "name": "stdout",
     "output_type": "stream",
     "text": [
      "we are inside win_combo for X\n",
      "[[0, 0], [2, 0]]\n",
      "[0, 2]\n",
      "[0, 0]\n",
      "we are inside win_combo for O\n",
      "[[1, 1]]\n",
      "[1]\n",
      "[1]\n"
     ]
    },
    {
     "name": "stdin",
     "output_type": "stream",
     "text": [
      "Would you like to continue playing? Press enter, 0, 1, 2, or 3 to continue, or type anything to exit \n"
     ]
    },
    {
     "name": "stdout",
     "output_type": "stream",
     "text": [
      "+---+---+---+\n",
      "| X |   |   | \n",
      "+---+---+---+\n",
      "|   | O |   | \n",
      "+---+---+---+\n",
      "| X |   |   | \n",
      "+---+---+---+\n",
      "we are inside win_combo for X\n",
      "[[0, 0], [2, 0]]\n",
      "[0, 2]\n",
      "[0, 0]\n",
      "we are inside win_combo for O\n",
      "[[1, 1], [2, 1]]\n",
      "[1, 2]\n",
      "[1, 1]\n"
     ]
    },
    {
     "name": "stdin",
     "output_type": "stream",
     "text": [
      "Would you like to continue playing? Press enter, 0, 1, 2, or 3 to continue, or type anything to exit \n"
     ]
    },
    {
     "name": "stdout",
     "output_type": "stream",
     "text": [
      "+---+---+---+\n",
      "| X |   |   | \n",
      "+---+---+---+\n",
      "|   | O |   | \n",
      "+---+---+---+\n",
      "| X | O |   | \n",
      "+---+---+---+\n",
      "Time for X to move\n"
     ]
    },
    {
     "name": "stdin",
     "output_type": "stream",
     "text": [
      "Choose a row to play in between 1 and 3: 2\n",
      "Choose a column to play in between 1 and 3: 1\n"
     ]
    },
    {
     "name": "stdout",
     "output_type": "stream",
     "text": [
      "we are inside win_combo for X\n",
      "[[0, 0], [1, 0], [2, 0]]\n",
      "[0, 1, 2]\n",
      "[0, 0, 0]\n",
      "+---+---+---+\n",
      "| X |   |   | \n",
      "+---+---+---+\n",
      "| X | O |   | \n",
      "+---+---+---+\n",
      "| X | O |   | \n",
      "+---+---+---+\n",
      "Player X has won!\n",
      "Thank you for playing!\n",
      "We hope to see you again soon!\n"
     ]
    }
   ],
   "source": [
    "print(\"Welcome to Tic Tac Toe!\")\n",
    "solo=game_type()\n",
    "\n",
    "# Repeats the game until you want to exit or there is a win or tie\n",
    "while find_endgame(A)==\"none\":\n",
    "    display(A)\n",
    "    if move_num%2==0:\n",
    "        user_move(A,\"X\")\n",
    "    elif solo==True:\n",
    "        computer_move(A)\n",
    "    else:\n",
    "        user_move(A,\"O\")\n",
    "    move_num+=1\n",
    "\n",
    "# Thank you message\n",
    "print(\"Thank you for playing!\")\n",
    "print(\"We hope to see you again soon!\")"
   ]
  },
  {
   "cell_type": "code",
   "execution_count": null,
   "metadata": {},
   "outputs": [],
   "source": []
  }
 ],
 "metadata": {
  "kernelspec": {
   "display_name": "Python 3",
   "language": "python",
   "name": "python3"
  },
  "language_info": {
   "codemirror_mode": {
    "name": "ipython",
    "version": 3
   },
   "file_extension": ".py",
   "mimetype": "text/x-python",
   "name": "python",
   "nbconvert_exporter": "python",
   "pygments_lexer": "ipython3",
   "version": "3.6.9"
  }
 },
 "nbformat": 4,
 "nbformat_minor": 4
}
