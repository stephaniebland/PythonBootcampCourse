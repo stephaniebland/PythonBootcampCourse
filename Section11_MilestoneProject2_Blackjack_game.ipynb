{
 "cells": [
  {
   "cell_type": "markdown",
   "metadata": {},
   "source": [
    "# Blackjack Game"
   ]
  },
  {
   "cell_type": "code",
   "execution_count": 1,
   "metadata": {},
   "outputs": [],
   "source": [
    "import random\n",
    "\n",
    "suits=(\"Hearts\",\"Spades\",\"Diamonds\",\"Clubs\")\n",
    "ranks=('Ace','Two','Three','Four','Five','Six','Seven','Eight',\n",
    "        'Nine','Ten','Jack','Queen','King')\n",
    "\n",
    "# Dictionary of values\n",
    "# In Blackjack an ace can either hold a value of 1 or 11.\n",
    "# We will solve this later with an if statement when calculating the value of a hand\n",
    "values={'Ace':1,'Two':2,'Three':3,'Four':4,'Five':5,'Six':6,'Seven':7,'Eight':8,\n",
    "        'Nine':9,'Ten':10,'Jack':10,'Queen':10,'King':10}"
   ]
  },
  {
   "cell_type": "code",
   "execution_count": 2,
   "metadata": {},
   "outputs": [],
   "source": [
    "class Card():\n",
    "    # Attributes of a card (suit, rank, value)\n",
    "    def __init__(self,suit,rank):\n",
    "        self.suit=suit\n",
    "        self.rank=rank\n",
    "        self.value=values[rank]\n",
    "    \n",
    "    def __str__(self):\n",
    "        return(self.rank+\" of \"+self.suit)\n",
    "        "
   ]
  },
  {
   "cell_type": "code",
   "execution_count": 3,
   "metadata": {},
   "outputs": [],
   "source": [
    "class Deck():\n",
    "    # Constructed using instances of the card class\n",
    "    def __init__(self):\n",
    "        self.full_deck=[]\n",
    "        for i in suits:\n",
    "            for j in ranks:\n",
    "                self.full_deck.append(Card(i,j))\n",
    "    \n",
    "    def __str__(self):\n",
    "        prnt_cards=\"\"\n",
    "        for i in self.full_deck:\n",
    "            prnt_cards+=i.__str__()+'\\n'\n",
    "        return (\"The cards remaining in the deck are:\\n\"+prnt_cards)\n",
    "    \n",
    "    # Shuffle Deck\n",
    "    def shuffle(self):\n",
    "        random.shuffle(self.full_deck)\n",
    "        \n",
    "    # Draw a card\n",
    "    def draw(self):\n",
    "        return self.full_deck.pop(0)"
   ]
  },
  {
   "cell_type": "code",
   "execution_count": 4,
   "metadata": {},
   "outputs": [],
   "source": [
    "class Player():\n",
    "    # Contains player attributes, i.e. bankroll, bet, current hand\n",
    "    def __init__(self,name,bank=100,bet=False):\n",
    "        self.name=name\n",
    "        self.bank=bank\n",
    "        self.bet=bet\n",
    "        self.hand=[]\n",
    "      \n",
    "    # Add cards\n",
    "    def add_cards(self,new_cards):\n",
    "        if type(new_cards)==type([]):\n",
    "            self.hand.extend(new_cards)\n",
    "        else:\n",
    "            self.hand.append(new_cards)\n",
    "    \n",
    "    def __str__(self):\n",
    "        return f'Player {self.name} has {len(self.hand)} cards.'\n",
    "    \n",
    "    # Player places a bet\n",
    "    def place_bet(self,bet):\n",
    "        try:\n",
    "            bet=int(bet)\n",
    "        except:\n",
    "            print(\"Please place an integer bet.\")\n",
    "            return False\n",
    "        if bet>self.bank:\n",
    "            print (\"You don't have enough funds for that bet.\\n\"+\n",
    "                   self.name+\" only has $\"+str(self.bank)+\".\")\n",
    "            return False\n",
    "        else:\n",
    "            self.bet=bet\n",
    "            print (self.name,\"bet\",bet)\n",
    "            return self.bet\n",
    "        \n",
    "    # Calculate the total blackjack value of the hand\n",
    "    def compute(self):\n",
    "        tot=0\n",
    "        aces=0\n",
    "        # Add the value of each card in the hand, and if it's an ace, allow yourself to add an extra ten points later\n",
    "        for i in self.hand:\n",
    "            tot+=i.value\n",
    "            # Count the number of aces in the deck\n",
    "            if i.value==1:\n",
    "                aces+=1\n",
    "                \n",
    "        # For every ace, you may add ten more points if it's favorable\n",
    "        for j in range(aces):\n",
    "            if tot<=11:\n",
    "                tot+=10  \n",
    "        \n",
    "        # Return the total score of the hand\n",
    "        return int(tot)"
   ]
  },
  {
   "cell_type": "code",
   "execution_count": 5,
   "metadata": {},
   "outputs": [],
   "source": [
    "# Hit/Stay Function for player\n",
    "def hit_player(player,deck):\n",
    "    while True:\n",
    "        choice=input(player2.name+\", would you like to hit (draw one more card)? Say 'yes' or 'no'.\")\n",
    "    \n",
    "        # If player hits:\n",
    "        if choice[0].lower()==\"y\":\n",
    "            print(player.name,\"has chosen to hit. Their hand is now:\")\n",
    "            player.add_cards(deck.draw())\n",
    "            for i in player.hand:\n",
    "                print(i)\n",
    "            \n",
    "        # If player stays:\n",
    "        elif choice[0].lower()==\"n\":\n",
    "            print(player.name,\"has chosen to stay. Their total hand value is\", player.compute())\n",
    "        \n",
    "        else:\n",
    "            print (\"Please reply either yes or no.\")\n",
    "            continue\n",
    "        break"
   ]
  },
  {
   "cell_type": "code",
   "execution_count": 6,
   "metadata": {},
   "outputs": [],
   "source": [
    "# Hit/Stay function for Dealer\n",
    "def hit_dealer(player,deck):\n",
    "    # The dealer will always Hit until the Dealer's value meets or exceeds 17.\n",
    "    print(player)\n",
    "    for i in player.hand:\n",
    "        print(i)\n",
    "    print(player.compute())\n",
    "    if player.compute()<17:\n",
    "        print(player.name,\"has chosen to hit. Their hand is now:\")\n",
    "        player.add_cards(deck.draw())\n",
    "        for i in player.hand:\n",
    "            print(i)\n",
    "    else:\n",
    "        print(player.name,\"has chosen to stay.\")"
   ]
  },
  {
   "cell_type": "code",
   "execution_count": 7,
   "metadata": {},
   "outputs": [],
   "source": [
    "def hand_win(winner,loser):\n",
    "    print(winner.name,\"has won the game.\")\n",
    "    winner.bank+=player2.bet*2\n",
    "    loser.bank-=player2.bet"
   ]
  },
  {
   "cell_type": "code",
   "execution_count": 9,
   "metadata": {},
   "outputs": [
    {
     "ename": "NameError",
     "evalue": "name 'player2' is not defined",
     "output_type": "error",
     "traceback": [
      "\u001b[0;31m---------------------------------------------------------------------------\u001b[0m",
      "\u001b[0;31mNameError\u001b[0m                                 Traceback (most recent call last)",
      "\u001b[0;32m<ipython-input-9-f6a19078d82d>\u001b[0m in \u001b[0;36m<module>\u001b[0;34m\u001b[0m\n\u001b[0;32m----> 1\u001b[0;31m \u001b[0mhand_win\u001b[0m\u001b[0;34m(\u001b[0m\u001b[0mplayer1\u001b[0m\u001b[0;34m,\u001b[0m\u001b[0mplayer2\u001b[0m\u001b[0;34m)\u001b[0m\u001b[0;34m\u001b[0m\u001b[0;34m\u001b[0m\u001b[0m\n\u001b[0m\u001b[1;32m      2\u001b[0m \u001b[0mprint\u001b[0m\u001b[0;34m(\u001b[0m\u001b[0mplayer1\u001b[0m\u001b[0;34m.\u001b[0m\u001b[0mbank\u001b[0m\u001b[0;34m)\u001b[0m\u001b[0;34m\u001b[0m\u001b[0;34m\u001b[0m\u001b[0m\n\u001b[1;32m      3\u001b[0m \u001b[0mprint\u001b[0m\u001b[0;34m(\u001b[0m\u001b[0mplayer2\u001b[0m\u001b[0;34m.\u001b[0m\u001b[0mbank\u001b[0m\u001b[0;34m)\u001b[0m\u001b[0;34m\u001b[0m\u001b[0;34m\u001b[0m\u001b[0m\n",
      "\u001b[0;31mNameError\u001b[0m: name 'player2' is not defined"
     ]
    }
   ],
   "source": [
    "hand_win(player1,player2)\n",
    "print(player1.bank)\n",
    "print(player2.bank)"
   ]
  },
  {
   "cell_type": "markdown",
   "metadata": {},
   "source": [
    "# Game Logic"
   ]
  },
  {
   "cell_type": "code",
   "execution_count": 8,
   "metadata": {},
   "outputs": [],
   "source": [
    "# Initialize Deck\n",
    "deck=Deck()\n",
    "# Shuffle Deck\n",
    "deck.shuffle()\n",
    "\n",
    "# Ask for player names\n",
    "player1=Player(\"Computer\")#('\\033[35m'+input(\"Who is the second player? \")+'\\x1b[0m')\n",
    "player2=Player(\"Jane\")#('\\033[34m'+input(\"Who is the first player? \")+'\\x1b[0m')"
   ]
  },
  {
   "cell_type": "code",
   "execution_count": 9,
   "metadata": {},
   "outputs": [
    {
     "name": "stdin",
     "output_type": "stream",
     "text": [
      "Jane, please make a bet: 3\n"
     ]
    },
    {
     "name": "stdout",
     "output_type": "stream",
     "text": [
      "Jane bet 3\n"
     ]
    }
   ],
   "source": [
    "# Player places a bet\n",
    "player2.bet=False\n",
    "while player2.bet==False:\n",
    "    player2.place_bet(input(player2.name+\", please make a bet:\"))"
   ]
  },
  {
   "cell_type": "code",
   "execution_count": 10,
   "metadata": {},
   "outputs": [],
   "source": [
    "# Deal first two initial cards to the players\n",
    "for i in [0,1]:\n",
    "    player1.add_cards(deck.draw())\n",
    "    player2.add_cards(deck.draw())"
   ]
  },
  {
   "cell_type": "code",
   "execution_count": 11,
   "metadata": {},
   "outputs": [
    {
     "name": "stdout",
     "output_type": "stream",
     "text": [
      "King of Spades\n",
      "Five of Clubs\n"
     ]
    }
   ],
   "source": [
    "for i in player1.hand:\n",
    "    print(i)"
   ]
  },
  {
   "cell_type": "code",
   "execution_count": 12,
   "metadata": {},
   "outputs": [
    {
     "data": {
      "text/plain": [
       "19"
      ]
     },
     "execution_count": 12,
     "metadata": {},
     "output_type": "execute_result"
    }
   ],
   "source": [
    "player2.compute()"
   ]
  },
  {
   "cell_type": "code",
   "execution_count": 13,
   "metadata": {},
   "outputs": [
    {
     "name": "stdout",
     "output_type": "stream",
     "text": [
      "Computer has cards:\n",
      " King of Spades and\n",
      " A Face Down Card\n",
      "Jane has cards:\n",
      " Nine of Diamonds and\n",
      " Queen of Clubs\n"
     ]
    },
    {
     "name": "stdin",
     "output_type": "stream",
     "text": [
      "Jane, would you like to hit (draw one more card)? Say 'yes' or 'no'. y\n"
     ]
    },
    {
     "name": "stdout",
     "output_type": "stream",
     "text": [
      "Jane has chosen to hit. Their hand is now:\n",
      "Nine of Diamonds\n",
      "Queen of Clubs\n",
      "Five of Hearts\n",
      "Player Computer has 2 cards.\n",
      "King of Spades\n",
      "Five of Clubs\n",
      "15\n",
      "Computer has chosen to hit. Their hand is now:\n",
      "King of Spades\n",
      "Five of Clubs\n",
      "King of Clubs\n",
      "Jane has lost by going bust.\n"
     ]
    },
    {
     "ename": "NameError",
     "evalue": "name 'player' is not defined",
     "output_type": "error",
     "traceback": [
      "\u001b[0;31m---------------------------------------------------------------------------\u001b[0m",
      "\u001b[0;31mNameError\u001b[0m                                 Traceback (most recent call last)",
      "\u001b[0;32m<ipython-input-13-7a935f5a478b>\u001b[0m in \u001b[0;36m<module>\u001b[0;34m\u001b[0m\n\u001b[1;32m     16\u001b[0m     \u001b[0;32mif\u001b[0m \u001b[0mplayer2\u001b[0m\u001b[0;34m.\u001b[0m\u001b[0mcompute\u001b[0m\u001b[0;34m(\u001b[0m\u001b[0;34m)\u001b[0m\u001b[0;34m>\u001b[0m\u001b[0;36m21\u001b[0m\u001b[0;34m:\u001b[0m\u001b[0;34m\u001b[0m\u001b[0;34m\u001b[0m\u001b[0m\n\u001b[1;32m     17\u001b[0m         \u001b[0mprint\u001b[0m\u001b[0;34m(\u001b[0m\u001b[0mplayer2\u001b[0m\u001b[0;34m.\u001b[0m\u001b[0mname\u001b[0m\u001b[0;34m,\u001b[0m\u001b[0;34m\"has lost by going bust.\"\u001b[0m\u001b[0;34m)\u001b[0m\u001b[0;34m\u001b[0m\u001b[0;34m\u001b[0m\u001b[0m\n\u001b[0;32m---> 18\u001b[0;31m         \u001b[0mprint\u001b[0m\u001b[0;34m(\u001b[0m\u001b[0mplayer\u001b[0m\u001b[0;34m)\u001b[0m\u001b[0;34m\u001b[0m\u001b[0;34m\u001b[0m\u001b[0m\n\u001b[0m\u001b[1;32m     19\u001b[0m         \u001b[0mwinner\u001b[0m\u001b[0;34m=\u001b[0m\u001b[0mplayer1\u001b[0m\u001b[0;34m\u001b[0m\u001b[0;34m\u001b[0m\u001b[0m\n\u001b[1;32m     20\u001b[0m         \u001b[0mgame\u001b[0m\u001b[0;34m=\u001b[0m\u001b[0;32mFalse\u001b[0m\u001b[0;34m\u001b[0m\u001b[0;34m\u001b[0m\u001b[0m\n",
      "\u001b[0;31mNameError\u001b[0m: name 'player' is not defined"
     ]
    }
   ],
   "source": [
    "#Actual Gameplay\n",
    "game=True\n",
    "winner=False\n",
    "while game:\n",
    "    game=False\n",
    "    # Show the starting cards\n",
    "    print(player1.name,\"has cards:\\n\",player1.hand[0],\"and\\n\",\"A Face Down Card\")\n",
    "    print(player2.name,\"has cards:\\n\",player2.hand[0],\"and\\n\",player2.hand[1])\n",
    "    \n",
    "    # Players have the options of Hitting (Draw one more card), or Stay (Stop receiving cards):\n",
    "    hit_player(player2,deck)\n",
    "    # The dealer will always Hit until the Dealer's value meets or exceeds 17.\n",
    "    hit_dealer(player1,deck)\n",
    "   \n",
    "    # Check for bust:\n",
    "    if player2.compute()>21:\n",
    "        print(player2.name,\"has lost by going bust.\")\n",
    "        print(player2)\n",
    "        game=False\n",
    "    elif player1.compute()>21:\n",
    "        print(player1.name,\"has lost by going bust.\")\n",
    "        print(player1)\n",
    "        game=False\n",
    "    \n",
    "    # Find the winner of the round, and give all the cards to the winner.\n",
    "    if winner!=False:\n",
    "        #The banking system is currently broken. New idea, create a variable in the class that defines who the winner is.\n",
    "        winner.bank+=player2.bet()*2\n",
    "        loser.bank-=player2.bet()\n",
    "        print(winner.name, \"wins this round!\")\n",
    "        another=input(\"Would you like to play another game? Say 'yes' or 'no'.\")\n",
    "        if another[0].lower()==\"y\":\n",
    "            game=True\n",
    "    print(\"\\n\")"
   ]
  },
  {
   "cell_type": "code",
   "execution_count": null,
   "metadata": {},
   "outputs": [],
   "source": []
  },
  {
   "cell_type": "code",
   "execution_count": 217,
   "metadata": {},
   "outputs": [
    {
     "data": {
      "text/plain": [
       "15"
      ]
     },
     "execution_count": 217,
     "metadata": {},
     "output_type": "execute_result"
    }
   ],
   "source": [
    "player1.compute()"
   ]
  },
  {
   "cell_type": "code",
   "execution_count": null,
   "metadata": {},
   "outputs": [],
   "source": []
  }
 ],
 "metadata": {
  "kernelspec": {
   "display_name": "Python 3",
   "language": "python",
   "name": "python3"
  },
  "language_info": {
   "codemirror_mode": {
    "name": "ipython",
    "version": 3
   },
   "file_extension": ".py",
   "mimetype": "text/x-python",
   "name": "python",
   "nbconvert_exporter": "python",
   "pygments_lexer": "ipython3",
   "version": "3.6.9"
  }
 },
 "nbformat": 4,
 "nbformat_minor": 4
}
