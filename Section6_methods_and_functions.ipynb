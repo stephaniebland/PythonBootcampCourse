{
 "cells": [
  {
   "cell_type": "markdown",
   "metadata": {},
   "source": [
    "# 41. Methods and the Python Documentation"
   ]
  },
  {
   "cell_type": "code",
   "execution_count": 5,
   "metadata": {},
   "outputs": [],
   "source": [
    "mylist=[1,2,3]"
   ]
  },
  {
   "cell_type": "code",
   "execution_count": 7,
   "metadata": {},
   "outputs": [],
   "source": [
    "mylist.append(4)"
   ]
  },
  {
   "cell_type": "code",
   "execution_count": 8,
   "metadata": {},
   "outputs": [
    {
     "data": {
      "text/plain": [
       "[1, 2, 3, 4]"
      ]
     },
     "execution_count": 8,
     "metadata": {},
     "output_type": "execute_result"
    }
   ],
   "source": [
    "mylist"
   ]
  },
  {
   "cell_type": "code",
   "execution_count": 9,
   "metadata": {},
   "outputs": [
    {
     "data": {
      "text/plain": [
       "4"
      ]
     },
     "execution_count": 9,
     "metadata": {},
     "output_type": "execute_result"
    }
   ],
   "source": [
    "mylist.pop()"
   ]
  },
  {
   "cell_type": "code",
   "execution_count": 11,
   "metadata": {},
   "outputs": [
    {
     "data": {
      "text/plain": [
       "[1, 2, 3]"
      ]
     },
     "execution_count": 11,
     "metadata": {},
     "output_type": "execute_result"
    }
   ],
   "source": [
    "mylist"
   ]
  },
  {
   "cell_type": "code",
   "execution_count": 12,
   "metadata": {},
   "outputs": [
    {
     "name": "stdout",
     "output_type": "stream",
     "text": [
      "Help on built-in function insert:\n",
      "\n",
      "insert(...) method of builtins.list instance\n",
      "    L.insert(index, object) -- insert object before index\n",
      "\n"
     ]
    }
   ],
   "source": [
    "help(mylist.insert)"
   ]
  },
  {
   "cell_type": "markdown",
   "metadata": {},
   "source": [
    "# 43. def keyword"
   ]
  },
  {
   "cell_type": "code",
   "execution_count": 21,
   "metadata": {},
   "outputs": [],
   "source": [
    "def name_of_function(name):\n",
    "    '''\n",
    "    Docstring - Comment section to explain function\n",
    "    '''\n",
    "    print(\"hello \"+name)"
   ]
  },
  {
   "cell_type": "code",
   "execution_count": 24,
   "metadata": {},
   "outputs": [
    {
     "name": "stdout",
     "output_type": "stream",
     "text": [
      "hello Steph\n"
     ]
    }
   ],
   "source": [
    "name_of_function(\"Steph\")"
   ]
  },
  {
   "cell_type": "code",
   "execution_count": 25,
   "metadata": {},
   "outputs": [],
   "source": [
    "def add_function(num1,num2):\n",
    "    return num1+num2"
   ]
  },
  {
   "cell_type": "code",
   "execution_count": 26,
   "metadata": {},
   "outputs": [],
   "source": [
    "result=add_function(2,3)"
   ]
  },
  {
   "cell_type": "code",
   "execution_count": 28,
   "metadata": {},
   "outputs": [
    {
     "name": "stdout",
     "output_type": "stream",
     "text": [
      "5\n"
     ]
    }
   ],
   "source": [
    "print(result)"
   ]
  },
  {
   "cell_type": "markdown",
   "metadata": {},
   "source": [
    "# 44. Basics of Python Functions"
   ]
  },
  {
   "cell_type": "code",
   "execution_count": 34,
   "metadata": {},
   "outputs": [
    {
     "name": "stdout",
     "output_type": "stream",
     "text": [
      "hello \n",
      "how \n",
      "are \n",
      "you?\n"
     ]
    }
   ],
   "source": [
    "def say_hello():\n",
    "    print(\"hello \\nhow \\nare \\nyou?\")\n",
    "\n",
    "say_hello()"
   ]
  },
  {
   "cell_type": "code",
   "execution_count": 41,
   "metadata": {},
   "outputs": [
    {
     "name": "stdout",
     "output_type": "stream",
     "text": [
      "Hello Steph\n",
      "Hello \n"
     ]
    }
   ],
   "source": [
    "# Use a default value to make sure it doesn't return an error\n",
    "# if variable is left blank\n",
    "def say_hello(name=''):\n",
    "    print(f'Hello {name}')\n",
    "    \n",
    "say_hello('Steph')\n",
    "say_hello()"
   ]
  },
  {
   "cell_type": "code",
   "execution_count": 51,
   "metadata": {},
   "outputs": [],
   "source": [
    "# difference between printing and returning\n",
    "def print_result(a,b):\n",
    "    print(a+b)\n",
    "\n",
    "def return_result(a,b):\n",
    "    return(a+b)"
   ]
  },
  {
   "cell_type": "code",
   "execution_count": 57,
   "metadata": {},
   "outputs": [
    {
     "name": "stdout",
     "output_type": "stream",
     "text": [
      "5\n"
     ]
    }
   ],
   "source": [
    "print_result(2,3)"
   ]
  },
  {
   "cell_type": "code",
   "execution_count": 58,
   "metadata": {},
   "outputs": [
    {
     "data": {
      "text/plain": [
       "5"
      ]
     },
     "execution_count": 58,
     "metadata": {},
     "output_type": "execute_result"
    }
   ],
   "source": [
    "return_result(2,3)"
   ]
  },
  {
   "cell_type": "code",
   "execution_count": 59,
   "metadata": {},
   "outputs": [
    {
     "name": "stdout",
     "output_type": "stream",
     "text": [
      "30\n"
     ]
    }
   ],
   "source": [
    "result=print_result(10,20)"
   ]
  },
  {
   "cell_type": "raw",
   "metadata": {},
   "source": [
    "result"
   ]
  },
  {
   "cell_type": "code",
   "execution_count": 60,
   "metadata": {},
   "outputs": [],
   "source": [
    "result=return_result(10,20)"
   ]
  },
  {
   "cell_type": "code",
   "execution_count": 61,
   "metadata": {},
   "outputs": [
    {
     "data": {
      "text/plain": [
       "30"
      ]
     },
     "execution_count": 61,
     "metadata": {},
     "output_type": "execute_result"
    }
   ],
   "source": [
    "result"
   ]
  },
  {
   "cell_type": "markdown",
   "metadata": {},
   "source": [
    "# 45. Logic with Python Functions"
   ]
  },
  {
   "cell_type": "code",
   "execution_count": 69,
   "metadata": {},
   "outputs": [],
   "source": [
    "def even_check(num):\n",
    "    return num%2==0"
   ]
  },
  {
   "cell_type": "code",
   "execution_count": 70,
   "metadata": {},
   "outputs": [
    {
     "data": {
      "text/plain": [
       "True"
      ]
     },
     "execution_count": 70,
     "metadata": {},
     "output_type": "execute_result"
    }
   ],
   "source": [
    "even_check(20)"
   ]
  },
  {
   "cell_type": "code",
   "execution_count": 71,
   "metadata": {},
   "outputs": [
    {
     "data": {
      "text/plain": [
       "False"
      ]
     },
     "execution_count": 71,
     "metadata": {},
     "output_type": "execute_result"
    }
   ],
   "source": [
    "even_check(23)"
   ]
  },
  {
   "cell_type": "code",
   "execution_count": 82,
   "metadata": {},
   "outputs": [],
   "source": [
    "# function that returns true if any number is even inside a list\n",
    "def even_check(mylist):\n",
    "    for i in mylist:\n",
    "        if i%2==0:\n",
    "            return True\n",
    "    return False"
   ]
  },
  {
   "cell_type": "code",
   "execution_count": 83,
   "metadata": {},
   "outputs": [
    {
     "data": {
      "text/plain": [
       "False"
      ]
     },
     "execution_count": 83,
     "metadata": {},
     "output_type": "execute_result"
    }
   ],
   "source": [
    "even_check([1,5,9])"
   ]
  },
  {
   "cell_type": "code",
   "execution_count": 84,
   "metadata": {},
   "outputs": [
    {
     "data": {
      "text/plain": [
       "True"
      ]
     },
     "execution_count": 84,
     "metadata": {},
     "output_type": "execute_result"
    }
   ],
   "source": [
    "even_check([1,3,4,6,9])"
   ]
  },
  {
   "cell_type": "code",
   "execution_count": 91,
   "metadata": {},
   "outputs": [],
   "source": [
    "# function that returns any even numbers in a list\n",
    "def even_check(mylist):\n",
    "    sol=[] # placeholder variable\n",
    "    for i in mylist:\n",
    "        if i%2==0:\n",
    "            sol.append(i)\n",
    "    return sol"
   ]
  },
  {
   "cell_type": "code",
   "execution_count": 89,
   "metadata": {},
   "outputs": [
    {
     "data": {
      "text/plain": [
       "[]"
      ]
     },
     "execution_count": 89,
     "metadata": {},
     "output_type": "execute_result"
    }
   ],
   "source": [
    "even_check([1,5,9])"
   ]
  },
  {
   "cell_type": "code",
   "execution_count": 90,
   "metadata": {},
   "outputs": [
    {
     "data": {
      "text/plain": [
       "[42, 4, 6]"
      ]
     },
     "execution_count": 90,
     "metadata": {},
     "output_type": "execute_result"
    }
   ],
   "source": [
    "even_check([1,42,3,4,6,9])"
   ]
  },
  {
   "cell_type": "markdown",
   "metadata": {},
   "source": [
    "# 46. Tuple Unpacking with Python Functions"
   ]
  },
  {
   "cell_type": "code",
   "execution_count": 93,
   "metadata": {},
   "outputs": [],
   "source": [
    "# create a tuple\n",
    "stock_prices=[('APPL',200),('GOOG',400),(\"MSFT\",100)]"
   ]
  },
  {
   "cell_type": "code",
   "execution_count": 94,
   "metadata": {},
   "outputs": [
    {
     "name": "stdout",
     "output_type": "stream",
     "text": [
      "('APPL', 200)\n",
      "('GOOG', 400)\n",
      "('MSFT', 100)\n"
     ]
    }
   ],
   "source": [
    "for i in stock_prices:\n",
    "    print(i)"
   ]
  },
  {
   "cell_type": "code",
   "execution_count": 96,
   "metadata": {},
   "outputs": [
    {
     "name": "stdout",
     "output_type": "stream",
     "text": [
      "The price of APPL is $200.\n",
      "The price of GOOG is $400.\n",
      "The price of MSFT is $100.\n"
     ]
    }
   ],
   "source": [
    "# tuple unpacking\n",
    "for ticker,price in stock_prices:\n",
    "    print(f'The price of {ticker} is ${price}.')"
   ]
  },
  {
   "cell_type": "code",
   "execution_count": 125,
   "metadata": {},
   "outputs": [],
   "source": [
    "# functions can return things as tuples, \n",
    "# and then you can unpack the result\n",
    "work_hours=[('Abby',100),('Billy',1400),('Cassie',800),('James',1400)]\n",
    "\n",
    "def employee_of_the_month(work_hours):\n",
    "    \n",
    "    #placeholder variables\n",
    "    current_max=0\n",
    "    employee_winning=''\n",
    "    \n",
    "    for name,hours in work_hours:\n",
    "        if hours>current_max:\n",
    "            current_max=hours\n",
    "            employee_winning=name\n",
    "        elif hours==current_max:\n",
    "            employee_winning=employee_winning+' and '+name\n",
    "        else:\n",
    "            pass\n",
    "            \n",
    "    return (employee_winning,current_max)"
   ]
  },
  {
   "cell_type": "code",
   "execution_count": 131,
   "metadata": {},
   "outputs": [
    {
     "name": "stdout",
     "output_type": "stream",
     "text": [
      "Billy and James  worked  1400  hours.\n"
     ]
    }
   ],
   "source": [
    "name,hours=employee_of_the_month(work_hours)\n",
    "print(name,' worked ',hours,' hours.')"
   ]
  },
  {
   "cell_type": "markdown",
   "metadata": {},
   "source": [
    "# 47. Interactions Between Functions"
   ]
  },
  {
   "cell_type": "code",
   "execution_count": 134,
   "metadata": {},
   "outputs": [],
   "source": [
    "from random import shuffle"
   ]
  },
  {
   "cell_type": "code",
   "execution_count": 140,
   "metadata": {},
   "outputs": [],
   "source": [
    "example=[*range(1,8)]"
   ]
  },
  {
   "cell_type": "code",
   "execution_count": 141,
   "metadata": {},
   "outputs": [
    {
     "data": {
      "text/plain": [
       "[1, 2, 3, 4, 5, 6, 7]"
      ]
     },
     "execution_count": 141,
     "metadata": {},
     "output_type": "execute_result"
    }
   ],
   "source": [
    "example"
   ]
  },
  {
   "cell_type": "code",
   "execution_count": 142,
   "metadata": {},
   "outputs": [
    {
     "data": {
      "text/plain": [
       "[5, 7, 6, 2, 3, 1, 4]"
      ]
     },
     "execution_count": 142,
     "metadata": {},
     "output_type": "execute_result"
    }
   ],
   "source": [
    "shuffle(example)\n",
    "example"
   ]
  },
  {
   "cell_type": "code",
   "execution_count": 169,
   "metadata": {},
   "outputs": [],
   "source": [
    "# simple shuffle game\n",
    "\n",
    "# Shuffle the cups\n",
    "def shuffle_cups(cups):\n",
    "    shuffle(cups)\n",
    "    return cups\n",
    "\n",
    "# Ball is represented by an 'O'\n",
    "cups=['','O','']\n",
    "\n",
    "# Function that checks a player's guess\n",
    "def player_guess():\n",
    "    guess=''\n",
    "    \n",
    "    # Get appropriate user input\n",
    "    while guess not in [*range(0,3)]:\n",
    "        guess = int(input(\"Pick a number: 1, 2, or 3\"))-1\n",
    "    return guess\n",
    "    \n",
    "# Check guess\n",
    "def check_guess(cups,guess):\n",
    "    if cups[guess]=='O':\n",
    "        print(\"Congrats! You guessed correctly!\")\n",
    "    else:\n",
    "        print(\"Sorry, you lost\")\n",
    "        print(cups)    "
   ]
  },
  {
   "cell_type": "code",
   "execution_count": 172,
   "metadata": {},
   "outputs": [
    {
     "name": "stdin",
     "output_type": "stream",
     "text": [
      "Pick a number: 1, 2, or 3 2\n"
     ]
    },
    {
     "data": {
      "text/plain": [
       "1"
      ]
     },
     "execution_count": 172,
     "metadata": {},
     "output_type": "execute_result"
    }
   ],
   "source": [
    "player_guess()"
   ]
  },
  {
   "cell_type": "code",
   "execution_count": 173,
   "metadata": {},
   "outputs": [],
   "source": [
    "x=[*range(0,3)]"
   ]
  },
  {
   "cell_type": "code",
   "execution_count": 174,
   "metadata": {},
   "outputs": [
    {
     "name": "stdout",
     "output_type": "stream",
     "text": [
      "[0, 1, 2]\n"
     ]
    }
   ],
   "source": [
    "print(x)"
   ]
  },
  {
   "cell_type": "code",
   "execution_count": 179,
   "metadata": {},
   "outputs": [
    {
     "name": "stdin",
     "output_type": "stream",
     "text": [
      "Pick a number: 1, 2, or 3 8\n",
      "Pick a number: 1, 2, or 3 3\n"
     ]
    },
    {
     "name": "stdout",
     "output_type": "stream",
     "text": [
      "Sorry, you lost\n",
      "['', 'O', '']\n"
     ]
    }
   ],
   "source": [
    "# Full Game\n",
    "# Initial list\n",
    "cups=['','O','']\n",
    "# Shuffle list\n",
    "mixed_cups=shuffle_cups(cups)\n",
    "# User guess\n",
    "guess=player_guess()\n",
    "# Check guess\n",
    "check_guess(mixed_cups,guess)"
   ]
  },
  {
   "cell_type": "markdown",
   "metadata": {},
   "source": [
    "# Coding Exercises"
   ]
  },
  {
   "cell_type": "code",
   "execution_count": 181,
   "metadata": {},
   "outputs": [],
   "source": [
    "# Function #6 is even?\n",
    "def is_even(a):\n",
    "    return a%2==0"
   ]
  },
  {
   "cell_type": "code",
   "execution_count": 182,
   "metadata": {},
   "outputs": [],
   "source": [
    "# Function #7 is greater?\n",
    "def is_greater(a,b):\n",
    "    return a>b"
   ]
  },
  {
   "cell_type": "markdown",
   "metadata": {},
   "source": [
    "# 49. \\*args and \\*\\*kwargs in Python"
   ]
  },
  {
   "cell_type": "code",
   "execution_count": 183,
   "metadata": {},
   "outputs": [],
   "source": [
    "# use an asterix to input an undefined number of variables\n",
    "def myfunc(*args):\n",
    "    print(args, \"args is a tuple, so you can loop through it\")\n",
    "    print (sum(args)*0.05)"
   ]
  },
  {
   "cell_type": "code",
   "execution_count": 184,
   "metadata": {},
   "outputs": [
    {
     "name": "stdout",
     "output_type": "stream",
     "text": [
      "(10, 20, 30) args is a tuple, so you can loop through it\n",
      "3.0\n"
     ]
    }
   ],
   "source": [
    "myfunc(10,20,30)"
   ]
  },
  {
   "cell_type": "code",
   "execution_count": 185,
   "metadata": {},
   "outputs": [],
   "source": [
    "# and use two asterixes to input an undefined number of\n",
    "# keyword arguments\n",
    "def myfunc(**kwargs):\n",
    "    print(kwargs,'\\n kwargs is a dictionary')\n",
    "    if 'fruit' in kwargs:\n",
    "        print('My favourite fruit is {}'.format(kwargs['fruit']))\n",
    "    else:\n",
    "        print(\"I don't like fruit\")\n",
    "    for i in kwargs:\n",
    "        print('My favourite {} is {}!'.format(i,kwargs[i])) "
   ]
  },
  {
   "cell_type": "code",
   "execution_count": 186,
   "metadata": {},
   "outputs": [
    {
     "name": "stdout",
     "output_type": "stream",
     "text": [
      "{'cake': 'cheesecake', 'fruit': 'cherry', 'vegetable': 'broccoli'} \n",
      " kwargs is a dictionary\n",
      "My favourite fruit is cherry\n",
      "My favourite cake is cheesecake!\n",
      "My favourite fruit is cherry!\n",
      "My favourite vegetable is broccoli!\n"
     ]
    }
   ],
   "source": [
    "myfunc(cake=\"cheesecake\", fruit=\"cherry\",vegetable=\"broccoli\")"
   ]
  },
  {
   "cell_type": "code",
   "execution_count": 187,
   "metadata": {},
   "outputs": [],
   "source": [
    "# We can Combine args and kwargs\n",
    "def myfunc(*args,**kwargs):\n",
    "    print('I would like {} {}.'.format(args[0],kwargs['food']))"
   ]
  },
  {
   "cell_type": "code",
   "execution_count": 188,
   "metadata": {},
   "outputs": [
    {
     "name": "stdout",
     "output_type": "stream",
     "text": [
      "I would like 10 eggs.\n"
     ]
    }
   ],
   "source": [
    "myfunc(10,20,30,fruit='orange',food='eggs',animal='dog')"
   ]
  },
  {
   "cell_type": "markdown",
   "metadata": {},
   "source": [
    "# Coding Exercises"
   ]
  },
  {
   "cell_type": "code",
   "execution_count": 189,
   "metadata": {},
   "outputs": [
    {
     "data": {
      "text/plain": [
       "[2, 324, 624]"
      ]
     },
     "execution_count": 189,
     "metadata": {},
     "output_type": "execute_result"
    }
   ],
   "source": [
    "# Pick Evens\n",
    "def myfunc(*args):\n",
    "    return [i for i in args if i%2==0]\n",
    "myfunc(2,324,21,35,624,643,63)"
   ]
  },
  {
   "cell_type": "code",
   "execution_count": 190,
   "metadata": {},
   "outputs": [
    {
     "data": {
      "text/plain": [
       "'aNtHrOpOmOrPhIsM'"
      ]
     },
     "execution_count": 190,
     "metadata": {},
     "output_type": "execute_result"
    }
   ],
   "source": [
    "# Skyline\n",
    "def myfunc(x):\n",
    "    y=''\n",
    "    for i in [*range(0,len(x))]:\n",
    "        if i%2==0:\n",
    "            y=y+x[i].lower()\n",
    "        else:\n",
    "            y=y+x[i].upper()\n",
    "    return y\n",
    "\n",
    "myfunc('Anthropomorphism')"
   ]
  },
  {
   "cell_type": "code",
   "execution_count": null,
   "metadata": {},
   "outputs": [],
   "source": []
  }
 ],
 "metadata": {
  "kernelspec": {
   "display_name": "Python 3",
   "language": "python",
   "name": "python3"
  },
  "language_info": {
   "codemirror_mode": {
    "name": "ipython",
    "version": 3
   },
   "file_extension": ".py",
   "mimetype": "text/x-python",
   "name": "python",
   "nbconvert_exporter": "python",
   "pygments_lexer": "ipython3",
   "version": "3.6.9"
  }
 },
 "nbformat": 4,
 "nbformat_minor": 4
}
